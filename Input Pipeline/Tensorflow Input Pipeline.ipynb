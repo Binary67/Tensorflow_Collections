{
 "cells": [
  {
   "cell_type": "code",
   "execution_count": 1,
   "metadata": {},
   "outputs": [
    {
     "name": "stderr",
     "output_type": "stream",
     "text": [
      "C:\\Users\\Franky\\AppData\\Local\\Continuum\\anaconda3\\envs\\Python3.6\\lib\\site-packages\\h5py\\__init__.py:36: FutureWarning: Conversion of the second argument of issubdtype from `float` to `np.floating` is deprecated. In future, it will be treated as `np.float64 == np.dtype(float).type`.\n",
      "  from ._conv import register_converters as _register_converters\n"
     ]
    },
    {
     "name": "stdout",
     "output_type": "stream",
     "text": [
      "curses is not supported on this machine (please install/reinstall curses for an optimal experience)\n"
     ]
    }
   ],
   "source": [
    "import tensorflow as tf\n",
    "import tflearn\n",
    "import numpy as np\n",
    "import matplotlib.pyplot as plt"
   ]
  },
  {
   "cell_type": "code",
   "execution_count": 2,
   "metadata": {},
   "outputs": [
    {
     "data": {
      "image/png": "[encoded data removed]",
      "text/plain": [
       "<matplotlib.figure.Figure at 0x2491ea21f60>"
      ]
     },
     "metadata": {},
     "output_type": "display_data"
    }
   ],
   "source": [
    "# Create Dataset\n",
    "FEATURES = np.linspace(0, 20, 300, dtype=np.float64)[:, np.newaxis]\n",
    "NOISE = np.random.sample((300, 1))\n",
    "LABELS = FEATURES * 2 + NOISE\n",
    "BATCH_SIZE = 10\n",
    "\n",
    "# Plot Graph\n",
    "plt.scatter(FEATURES, LABELS)\n",
    "plt.show()"
   ]
  },
  {
   "cell_type": "code",
   "execution_count": 3,
   "metadata": {},
   "outputs": [],
   "source": [
    "# Iterator\n",
    "DATASET = tf.data.Dataset.from_tensor_slices((FEATURES, LABELS)).repeat().batch(BATCH_SIZE)\n",
    "ITERATOR = DATASET.make_one_shot_iterator()\n",
    "X, Y = ITERATOR.get_next()"
   ]
  },
  {
   "cell_type": "code",
   "execution_count": 4,
   "metadata": {},
   "outputs": [],
   "source": [
    "# Neural Network\n",
    "PREDICTION = tf.layers.dense(X, 1)\n",
    "LOSS = tf.reduce_mean(tf.square(PREDICTION - Y))\n",
    "OPTIMIZER = tf.train.GradientDescentOptimizer(0.01).minimize(LOSS)"
   ]
  },
  {
   "cell_type": "code",
   "execution_count": 5,
   "metadata": {},
   "outputs": [
    {
     "name": "stdout",
     "output_type": "stream",
     "text": [
      "Loss: 15.190090448982208\n",
      "Loss: 61.36126815459771\n",
      "Loss: 94.974663959769\n",
      "Loss: 66.55175672850467\n",
      "Loss: 12.729488661652805\n",
      "Loss: 0.06793225957841947\n",
      "Loss: 0.14635967652166346\n",
      "Loss: 0.042508491129581244\n"
     ]
    }
   ],
   "source": [
    "# Run Training\n",
    "sess = tf.Session()\n",
    "sess.run(tf.global_variables_initializer())\n",
    "\n",
    "for _ in range(8):\n",
    "    sess.run(OPTIMIZER)\n",
    "    print('Loss:', sess.run(LOSS))"
   ]
  },
  {
   "cell_type": "code",
   "execution_count": null,
   "metadata": {},
   "outputs": [],
   "source": []
  }
 ],
 "metadata": {
  "kernelspec": {
   "display_name": "Python 3",
   "language": "python",
   "name": "python3"
  },
  "language_info": {
   "codemirror_mode": {
    "name": "ipython",
    "version": 3
   },
   "file_extension": ".py",
   "mimetype": "text/x-python",
   "name": "python",
   "nbconvert_exporter": "python",
   "pygments_lexer": "ipython3",
   "version": "3.6.5"
  }
 },
 "nbformat": 4,
 "nbformat_minor": 2
}
