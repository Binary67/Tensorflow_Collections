{
 "cells": [
  {
   "cell_type": "code",
   "execution_count": 1,
   "metadata": {},
   "outputs": [],
   "source": [
    "import tensorflow as tf\n",
    "import numpy as np"
   ]
  },
  {
   "cell_type": "markdown",
   "metadata": {},
   "source": [
    "## Dataset\n",
    "\n",
    "`tf.data.Dataset.from_tensors`\n",
    "* Return a complete shape of the input array\n",
    "    \n",
    "`tf.data.Dataset.from_tensor_slides`\n",
    "* Return the array after removing the first dimension of the input array"
   ]
  },
  {
   "cell_type": "code",
   "execution_count": 2,
   "metadata": {},
   "outputs": [
    {
     "name": "stdout",
     "output_type": "stream",
     "text": [
      "Dataset 1\n",
      "<DatasetV1Adapter shapes: (2, 5), types: tf.int64>\n",
      "\n",
      "Dataset 2\n",
      "<DatasetV1Adapter shapes: (5,), types: tf.int64>\n",
      "\n",
      "Dataset 3\n",
      "<DatasetV1Adapter shapes: (2, 4, 3), types: tf.float64>\n",
      "\n",
      "Dataset 4\n",
      "<DatasetV1Adapter shapes: (4, 3), types: tf.float64>\n",
      "\n"
     ]
    }
   ],
   "source": [
    "ARRAY_1 = np.array([[11,21,31,41,51], [12,14,16,18,20]])\n",
    "ARRAY_2 = np.array([[0,9,8,7,6],[1,2,3,4,5]])\n",
    "\n",
    "# tf.data.Dataset.from_tensors\n",
    "DATASET_1 = tf.data.Dataset.from_tensors(ARRAY_1)\n",
    "print('Dataset 1')\n",
    "print(DATASET_1)\n",
    "print('')\n",
    "\n",
    "# tf.data.Dataset.from_tensor_slices\n",
    "DATASET_2 = tf.data.Dataset.from_tensor_slices(ARRAY_2)\n",
    "print('Dataset 2')\n",
    "print(DATASET_2)\n",
    "print('')\n",
    "\n",
    "# tf.data.Dataset.from_tensors\n",
    "DATASET_3 = tf.data.Dataset.from_tensors(np.array(np.random.rand(2,4,3)))\n",
    "print('Dataset 3')\n",
    "print(DATASET_3)\n",
    "print('')\n",
    "\n",
    "# tf.data.Dataset.from_tensor_slices\n",
    "DATASET_4 = tf.data.Dataset.from_tensor_slices(np.array(np.random.rand(2,4,3)))\n",
    "print('Dataset 4')\n",
    "print(DATASET_4)\n",
    "print('')"
   ]
  },
  {
   "cell_type": "markdown",
   "metadata": {},
   "source": [
    "## Iterator\n",
    "\n",
    "`make_one_shot_iterator().get_next()`\n",
    "* Only supports iterating once through a dataset, with no need for explicit initialization\n",
    "\n",
    "`make_initializable_iterator()`\n",
    "* An initializable iterator requires you to run an explicit iterator.initializer operation before using it."
   ]
  },
  {
   "cell_type": "code",
   "execution_count": 5,
   "metadata": {},
   "outputs": [
    {
     "name": "stdout",
     "output_type": "stream",
     "text": [
      "DATASET 1\n",
      "[[11 21 31 41 51]\n",
      " [12 14 16 18 20]]\n",
      "\n",
      "DATASET 2\n",
      "[0 9 8 7 6]\n",
      "DATASET 2\n",
      "[1 2 3 4 5]\n"
     ]
    }
   ],
   "source": [
    "# make_one_shot_iterator()\n",
    "\n",
    "ITERATOR_1 = DATASET_1.make_one_shot_iterator().get_next()\n",
    "ITERATOR_2 = DATASET_2.make_one_shot_iterator().get_next()\n",
    "\n",
    "# Session\n",
    "SESS = tf.Session()\n",
    "\n",
    "print('DATASET 1')\n",
    "print(SESS.run(ITERATOR_1))\n",
    "\n",
    "print('')\n",
    "\n",
    "for i in range(len(ARRAY_2)):\n",
    "    print('DATASET 2')\n",
    "    print(SESS.run(ITERATOR_2))"
   ]
  },
  {
   "cell_type": "code",
   "execution_count": 21,
   "metadata": {},
   "outputs": [
    {
     "name": "stdout",
     "output_type": "stream",
     "text": [
      "TRAIN DATA\n",
      "[array([0.4136121, 0.9556283], dtype=float32), array([0.38089103], dtype=float32)]\n",
      "\n",
      "TEST DATA\n",
      "[array([1., 2.], dtype=float32), array([0.], dtype=float32)]\n"
     ]
    }
   ],
   "source": [
    "# make_initializable_iterator()\n",
    "X, Y = tf.placeholder(tf.float32, shape = [None, 2]), tf.placeholder(tf.float32, shape = [None, 1])\n",
    "DATASET = tf.data.Dataset.from_tensor_slices((X, Y))\n",
    "TRAIN_DATA = (np.random.rand(10,2), np.random.rand(10,1))\n",
    "TEST_DATA = (np.array([[1,2]]), np.array([[0]]))\n",
    "\n",
    "ITERATOR = DATASET.make_initializable_iterator()\n",
    "FEATURE, LABEL = ITERATOR.get_next()\n",
    "\n",
    "print('TRAIN DATA')\n",
    "SESS.run(ITERATOR.initializer, feed_dict = {X : TRAIN_DATA[0], Y : TRAIN_DATA[1]})\n",
    "print(SESS.run([FEATURE, LABEL]))\n",
    "    \n",
    "print('')\n",
    "\n",
    "print('TEST DATA')\n",
    "SESS.run(ITERATOR.initializer, feed_dict = {X : TEST_DATA[0], Y : TEST_DATA[1]})\n",
    "print(SESS.run([FEATURE, LABEL]))"
   ]
  },
  {
   "cell_type": "markdown",
   "metadata": {},
   "source": [
    "## Data Transformation"
   ]
  },
  {
   "cell_type": "code",
   "execution_count": 10,
   "metadata": {},
   "outputs": [
    {
     "name": "stdout",
     "output_type": "stream",
     "text": [
      "[99 97 98]\n",
      "[95 94 96]\n",
      "[92 93 91]\n",
      "[99 98 90]\n",
      "[97 95 96]\n",
      "[94 93 91]\n",
      "[92 90 98]\n",
      "[97 99 96]\n",
      "[94 93 95]\n",
      "[91 92 99]\n"
     ]
    }
   ],
   "source": [
    "ARRAY_3 = np.array([99, 98, 97, 96, 95, 94, 93, 92, 91, 90])\n",
    "\n",
    "DATASET = tf.data.Dataset.from_tensor_slices(ARRAY_3).repeat().shuffle(2).batch(3)\n",
    "ITERATOR = DATASET.make_one_shot_iterator().get_next()\n",
    "\n",
    "for i in range(len(ARRAY_3)):\n",
    "    print(SESS.run(ITERATOR))"
   ]
  },
  {
   "cell_type": "code",
   "execution_count": null,
   "metadata": {},
   "outputs": [],
   "source": []
  }
 ],
 "metadata": {
  "kernelspec": {
   "display_name": "Python 3",
   "language": "python",
   "name": "python3"
  },
  "language_info": {
   "codemirror_mode": {
    "name": "ipython",
    "version": 3
   },
   "file_extension": ".py",
   "mimetype": "text/x-python",
   "name": "python",
   "nbconvert_exporter": "python",
   "pygments_lexer": "ipython3",
   "version": "3.6.7"
  }
 },
 "nbformat": 4,
 "nbformat_minor": 2
}
