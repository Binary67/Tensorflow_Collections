{
 "cells": [
  {
   "cell_type": "code",
   "execution_count": 10,
   "metadata": {
    "scrolled": true
   },
   "outputs": [],
   "source": [
    "import tensorflow as tf"
   ]
  },
  {
   "cell_type": "markdown",
   "metadata": {},
   "source": [
    "# With Variable_Scope"
   ]
  },
  {
   "cell_type": "code",
   "execution_count": 2,
   "metadata": {},
   "outputs": [],
   "source": [
    "def Scope_Parameters(X):\n",
    "    M = tf.get_variable('Gradient', shape = [1], initializer = tf.random_normal_initializer())\n",
    "    B = tf.get_variable('Biases', shape = [1], initializer = tf.random_normal_initializer())\n",
    "    Y = M * X + B\n",
    "    return Y"
   ]
  },
  {
   "cell_type": "code",
   "execution_count": 3,
   "metadata": {},
   "outputs": [],
   "source": [
    "def Scope_Compute(X):\n",
    "    with tf.variable_scope('Layer_1'):\n",
    "        Output_1 = Scope_Parameters(X)\n",
    "        return Output_1"
   ]
  },
  {
   "cell_type": "markdown",
   "metadata": {},
   "source": [
    "# Without Variable Scope"
   ]
  },
  {
   "cell_type": "code",
   "execution_count": 4,
   "metadata": {},
   "outputs": [],
   "source": [
    "def NoScope_Parameter(X):\n",
    "    M = tf.Variable(tf.random_normal([1]), name = \"Weight\")\n",
    "    B = tf.Variable(tf.random_normal([1]), name = \"Biase\")\n",
    "    Y = M * X + B\n",
    "    return Y"
   ]
  },
  {
   "cell_type": "code",
   "execution_count": 5,
   "metadata": {},
   "outputs": [],
   "source": [
    "def NoScope_Compute(X):\n",
    "    Output_1 = NoScope_Parameter(X)\n",
    "    return Output_1"
   ]
  },
  {
   "cell_type": "code",
   "execution_count": 6,
   "metadata": {},
   "outputs": [],
   "source": [
    "sess = tf.Session()\n",
    "init = tf.global_variables_initializer()\n",
    "sess.run(init)\n",
    "\n",
    "tf.set_random_seed(1)"
   ]
  },
  {
   "cell_type": "markdown",
   "metadata": {},
   "source": [
    "# Compute The Operation"
   ]
  },
  {
   "cell_type": "code",
   "execution_count": 7,
   "metadata": {},
   "outputs": [],
   "source": [
    "with tf.variable_scope(\"Operation\") as scope:\n",
    "    result1 = Scope_Compute(10)\n",
    "    scope.reuse_variables()\n",
    "    result2 = Scope_Compute(20)"
   ]
  },
  {
   "cell_type": "code",
   "execution_count": 8,
   "metadata": {},
   "outputs": [],
   "source": [
    "result3 = NoScope_Compute(10)\n",
    "result4 = NoScope_Compute(20)"
   ]
  },
  {
   "cell_type": "markdown",
   "metadata": {},
   "source": [
    "## When tf.variable_scope is used:\n",
    "###### There are only two variables (Operation/Layer_1/Gradient:0, Operation/Layer_1/Biases:0)\n",
    "\n",
    "## When tf.variable_scope is not used:\n",
    "###### 4 variables (Weight:0, Biase:0, Weight_1:0 and Biase_1:0) are created\n",
    "\n",
    "#### * Same amount of computations are performed"
   ]
  },
  {
   "cell_type": "code",
   "execution_count": 9,
   "metadata": {},
   "outputs": [
    {
     "name": "stdout",
     "output_type": "stream",
     "text": [
      "<tf.Variable 'Operation/Layer_1/Gradient:0' shape=(1,) dtype=float32_ref>\n",
      "<tf.Variable 'Operation/Layer_1/Biases:0' shape=(1,) dtype=float32_ref>\n",
      "<tf.Variable 'Weight:0' shape=(1,) dtype=float32_ref>\n",
      "<tf.Variable 'Biase:0' shape=(1,) dtype=float32_ref>\n",
      "<tf.Variable 'Weight_1:0' shape=(1,) dtype=float32_ref>\n",
      "<tf.Variable 'Biase_1:0' shape=(1,) dtype=float32_ref>\n"
     ]
    }
   ],
   "source": [
    "# Check Numbers of Variables Used\n",
    "Trainable_var = tf.trainable_variables()\n",
    "\n",
    "for Variables in Trainable_var:\n",
    "    print(Variables)"
   ]
  }
 ],
 "metadata": {
  "kernelspec": {
   "display_name": "Python 3",
   "language": "python",
   "name": "python3"
  },
  "language_info": {
   "codemirror_mode": {
    "name": "ipython",
    "version": 3
   },
   "file_extension": ".py",
   "mimetype": "text/x-python",
   "name": "python",
   "nbconvert_exporter": "python",
   "pygments_lexer": "ipython3",
   "version": "3.6.5"
  }
 },
 "nbformat": 4,
 "nbformat_minor": 2
}
